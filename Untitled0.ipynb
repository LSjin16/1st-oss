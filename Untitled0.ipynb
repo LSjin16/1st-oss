{
  "nbformat": 4,
  "nbformat_minor": 0,
  "metadata": {
    "colab": {
      "provenance": [],
      "authorship_tag": "ABX9TyNeP8eVOHXRhzEJzyntk3/p",
      "include_colab_link": true
    },
    "kernelspec": {
      "name": "python3",
      "display_name": "Python 3"
    },
    "language_info": {
      "name": "python"
    }
  },
  "cells": [
    {
      "cell_type": "markdown",
      "metadata": {
        "id": "view-in-github",
        "colab_type": "text"
      },
      "source": [
        "<a href=\"https://colab.research.google.com/github/LSjin16/1st-oss/blob/main/Untitled0.ipynb\" target=\"_parent\"><img src=\"https://colab.research.google.com/assets/colab-badge.svg\" alt=\"Open In Colab\"/></a>"
      ]
    },
    {
      "cell_type": "markdown",
      "source": [
        "# colab oss 첫수업\n",
        "\n",
        "\n",
        "\n",
        "```\n",
        "# 코드로 형식 지정됨\n",
        "```python\n",
        "def my-method(name);\n",
        " return name\n",
        "\n"
      ],
      "metadata": {
        "id": "LntcFzfJHLMH"
      }
    },
    {
      "cell_type": "markdown",
      "source": [
        "## Markdown\n",
        "---\n",
        "$ co2 (A,B) =\\alpha * \\beta * A * B $\n",
        "\n"
      ],
      "metadata": {
        "id": "Ip-XrXjjIBLq"
      }
    },
    {
      "cell_type": "code",
      "execution_count": 4,
      "metadata": {
        "colab": {
          "base_uri": "https://localhost:8080/",
          "height": 139
        },
        "id": "VsvMCGDqEroR",
        "outputId": "0c287de8-42d6-4d70-8d7e-b8d20e412aae"
      },
      "outputs": [
        {
          "output_type": "error",
          "ename": "SyntaxError",
          "evalue": "ignored",
          "traceback": [
            "\u001b[0;36m  File \u001b[0;32m\"<ipython-input-4-2e925bdfb2a7>\"\u001b[0;36m, line \u001b[0;32m1\u001b[0m\n\u001b[0;31m    def co2(A,B);\u001b[0m\n\u001b[0m                ^\u001b[0m\n\u001b[0;31mSyntaxError\u001b[0m\u001b[0;31m:\u001b[0m invalid syntax\n"
          ]
        }
      ],
      "source": [
        "def co2(A,B);\n",
        "     alpha = 0.1\n",
        "     beta - 0.5\n",
        "    "
      ]
    },
    {
      "cell_type": "markdown",
      "source": [
        "# 테스트 pandas.ipynb\n"
      ],
      "metadata": {
        "id": "B1DOaar_MlLh"
      }
    },
    {
      "cell_type": "code",
      "source": [
        "import pandas as pd"
      ],
      "metadata": {
        "id": "khRbs6lBMs8O"
      },
      "execution_count": null,
      "outputs": []
    },
    {
      "cell_type": "code",
      "source": [
        "# Read a csv file\n",
        "df = pd.read_csv\n",
        "df = "
      ],
      "metadata": {
        "id": "IJDAvkhfM2Wb"
      },
      "execution_count": null,
      "outputs": []
    },
    {
      "cell_type": "code",
      "source": [
        "df.describe()"
      ],
      "metadata": {
        "id": "7byzS8nNNkUQ"
      },
      "execution_count": null,
      "outputs": []
    },
    {
      "cell_type": "code",
      "source": [
        "df."
      ],
      "metadata": {
        "id": "CfjAuc7fN3yk"
      },
      "execution_count": null,
      "outputs": []
    }
  ]
}