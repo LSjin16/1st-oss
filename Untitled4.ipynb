{
  "nbformat": 4,
  "nbformat_minor": 0,
  "metadata": {
    "colab": {
      "provenance": [],
      "authorship_tag": "ABX9TyMiqncEJX/7n7etzVSpcM7Y",
      "include_colab_link": true
    },
    "kernelspec": {
      "name": "python3",
      "display_name": "Python 3"
    },
    "language_info": {
      "name": "python"
    }
  },
  "cells": [
    {
      "cell_type": "markdown",
      "metadata": {
        "id": "view-in-github",
        "colab_type": "text"
      },
      "source": [
        "<a href=\"https://colab.research.google.com/github/LSjin16/1st-oss/blob/main/Untitled4.ipynb\" target=\"_parent\"><img src=\"https://colab.research.google.com/assets/colab-badge.svg\" alt=\"Open In Colab\"/></a>"
      ]
    },
    {
      "cell_type": "code",
      "execution_count": 21,
      "metadata": {
        "colab": {
          "base_uri": "https://localhost:8080/"
        },
        "id": "tWJrh8cvZ2cN",
        "outputId": "adf4df34-07df-4516-862b-0369b061fa46"
      },
      "outputs": [
        {
          "output_type": "stream",
          "name": "stdout",
          "text": [
            "Overwriting mycalc/calculator.py\n"
          ]
        }
      ],
      "source": [
        "%%writefile mycalc/calculator.py\n",
        "def add(x,y):\n",
        "    return x + y\n",
        "\n",
        "def subtract(x,y):\n",
        "    return x - y"
      ]
    },
    {
      "cell_type": "code",
      "source": [
        "%%writefile setup.py\n",
        "import setuptools \n",
        "\n",
        "setuptools.setup(\n",
        "    name='Jinseoung',\n",
        "    version='0.0.1',\n",
        "    description='nice calculator',\n",
        "    author='sjchun',\n",
        "    url='https://github.com/LSjin16/1st-oss',\n",
        "    downlad_url = 'https://github.com/LSjin16/1st-oss.zip',\n",
        "    packages= ['mycalc'],\n",
        "    classifiers=[\n",
        "        \"Programming Language :: Python :: 3\",\n",
        "    ]\n",
        ")"
      ],
      "metadata": {
        "colab": {
          "base_uri": "https://localhost:8080/"
        },
        "id": "qQBE-zEsaAos",
        "outputId": "b3362630-5345-43bc-9ed1-fa382b460f7a"
      },
      "execution_count": 28,
      "outputs": [
        {
          "output_type": "stream",
          "name": "stdout",
          "text": [
            "Overwriting setup.py\n"
          ]
        }
      ]
    },
    {
      "cell_type": "code",
      "source": [
        "!pip install wheel"
      ],
      "metadata": {
        "colab": {
          "base_uri": "https://localhost:8080/"
        },
        "id": "X2ZAcSVdaJCf",
        "outputId": "93ce9a83-2589-4d62-8977-955df3d6c236"
      },
      "execution_count": 29,
      "outputs": [
        {
          "output_type": "stream",
          "name": "stdout",
          "text": [
            "Looking in indexes: https://pypi.org/simple, https://us-python.pkg.dev/colab-wheels/public/simple/\n",
            "Requirement already satisfied: wheel in /usr/local/lib/python3.9/dist-packages (0.40.0)\n"
          ]
        }
      ]
    },
    {
      "cell_type": "code",
      "source": [
        "!pip install twine"
      ],
      "metadata": {
        "colab": {
          "base_uri": "https://localhost:8080/"
        },
        "id": "Dujk8ptyaRnk",
        "outputId": "8d0c43a4-ffce-469b-be54-cd42feb0afee"
      },
      "execution_count": 30,
      "outputs": [
        {
          "output_type": "stream",
          "name": "stdout",
          "text": [
            "Looking in indexes: https://pypi.org/simple, https://us-python.pkg.dev/colab-wheels/public/simple/\n",
            "Requirement already satisfied: twine in /usr/local/lib/python3.9/dist-packages (4.0.2)\n",
            "Requirement already satisfied: readme-renderer>=35.0 in /usr/local/lib/python3.9/dist-packages (from twine) (37.3)\n",
            "Requirement already satisfied: urllib3>=1.26.0 in /usr/local/lib/python3.9/dist-packages (from twine) (1.26.15)\n",
            "Requirement already satisfied: requests>=2.20 in /usr/local/lib/python3.9/dist-packages (from twine) (2.27.1)\n",
            "Requirement already satisfied: keyring>=15.1 in /usr/local/lib/python3.9/dist-packages (from twine) (23.13.1)\n",
            "Requirement already satisfied: rfc3986>=1.4.0 in /usr/local/lib/python3.9/dist-packages (from twine) (2.0.0)\n",
            "Requirement already satisfied: requests-toolbelt!=0.9.0,>=0.8.0 in /usr/local/lib/python3.9/dist-packages (from twine) (0.10.1)\n",
            "Requirement already satisfied: importlib-metadata>=3.6 in /usr/local/lib/python3.9/dist-packages (from twine) (6.1.0)\n",
            "Requirement already satisfied: rich>=12.0.0 in /usr/local/lib/python3.9/dist-packages (from twine) (13.3.3)\n",
            "Requirement already satisfied: pkginfo>=1.8.1 in /usr/local/lib/python3.9/dist-packages (from twine) (1.9.6)\n",
            "Requirement already satisfied: zipp>=0.5 in /usr/local/lib/python3.9/dist-packages (from importlib-metadata>=3.6->twine) (3.15.0)\n",
            "Requirement already satisfied: SecretStorage>=3.2 in /usr/local/lib/python3.9/dist-packages (from keyring>=15.1->twine) (3.3.3)\n",
            "Requirement already satisfied: jeepney>=0.4.2 in /usr/local/lib/python3.9/dist-packages (from keyring>=15.1->twine) (0.8.0)\n",
            "Requirement already satisfied: jaraco.classes in /usr/local/lib/python3.9/dist-packages (from keyring>=15.1->twine) (3.2.3)\n",
            "Requirement already satisfied: bleach>=2.1.0 in /usr/local/lib/python3.9/dist-packages (from readme-renderer>=35.0->twine) (6.0.0)\n",
            "Requirement already satisfied: docutils>=0.13.1 in /usr/local/lib/python3.9/dist-packages (from readme-renderer>=35.0->twine) (0.16)\n",
            "Requirement already satisfied: Pygments>=2.5.1 in /usr/local/lib/python3.9/dist-packages (from readme-renderer>=35.0->twine) (2.14.0)\n",
            "Requirement already satisfied: idna<4,>=2.5 in /usr/local/lib/python3.9/dist-packages (from requests>=2.20->twine) (3.4)\n",
            "Requirement already satisfied: charset-normalizer~=2.0.0 in /usr/local/lib/python3.9/dist-packages (from requests>=2.20->twine) (2.0.12)\n",
            "Requirement already satisfied: certifi>=2017.4.17 in /usr/local/lib/python3.9/dist-packages (from requests>=2.20->twine) (2022.12.7)\n",
            "Requirement already satisfied: markdown-it-py<3.0.0,>=2.2.0 in /usr/local/lib/python3.9/dist-packages (from rich>=12.0.0->twine) (2.2.0)\n",
            "Requirement already satisfied: six>=1.9.0 in /usr/local/lib/python3.9/dist-packages (from bleach>=2.1.0->readme-renderer>=35.0->twine) (1.16.0)\n",
            "Requirement already satisfied: webencodings in /usr/local/lib/python3.9/dist-packages (from bleach>=2.1.0->readme-renderer>=35.0->twine) (0.5.1)\n",
            "Requirement already satisfied: mdurl~=0.1 in /usr/local/lib/python3.9/dist-packages (from markdown-it-py<3.0.0,>=2.2.0->rich>=12.0.0->twine) (0.1.2)\n",
            "Requirement already satisfied: cryptography>=2.0 in /usr/local/lib/python3.9/dist-packages (from SecretStorage>=3.2->keyring>=15.1->twine) (40.0.1)\n",
            "Requirement already satisfied: more-itertools in /usr/local/lib/python3.9/dist-packages (from jaraco.classes->keyring>=15.1->twine) (9.1.0)\n",
            "Requirement already satisfied: cffi>=1.12 in /usr/local/lib/python3.9/dist-packages (from cryptography>=2.0->SecretStorage>=3.2->keyring>=15.1->twine) (1.15.1)\n",
            "Requirement already satisfied: pycparser in /usr/local/lib/python3.9/dist-packages (from cffi>=1.12->cryptography>=2.0->SecretStorage>=3.2->keyring>=15.1->twine) (2.21)\n"
          ]
        }
      ]
    },
    {
      "cell_type": "code",
      "source": [
        "!python setup.py bdist_wheel"
      ],
      "metadata": {
        "colab": {
          "base_uri": "https://localhost:8080/"
        },
        "id": "2ecjWBleaEWS",
        "outputId": "73cff96a-4a27-4082-bc13-3a00bef99e14"
      },
      "execution_count": 31,
      "outputs": [
        {
          "output_type": "stream",
          "name": "stdout",
          "text": [
            "/usr/lib/python3.9/distutils/dist.py:274: UserWarning: Unknown distribution option: 'downlad_url'\n",
            "  warnings.warn(msg)\n",
            "running bdist_wheel\n",
            "running build\n",
            "running build_py\n",
            "package init file 'mycalc/__init__.py' not found (or not a regular file)\n",
            "/usr/local/lib/python3.9/dist-packages/setuptools/command/install.py:34: SetuptoolsDeprecationWarning: setup.py install is deprecated. Use build and pip and other standards-based tools.\n",
            "  warnings.warn(\n",
            "installing to build/bdist.linux-x86_64/wheel\n",
            "running install\n",
            "running install_lib\n",
            "creating build/bdist.linux-x86_64/wheel\n",
            "creating build/bdist.linux-x86_64/wheel/mycalc\n",
            "copying build/lib/mycalc/calculator.py -> build/bdist.linux-x86_64/wheel/mycalc\n",
            "running install_egg_info\n",
            "running egg_info\n",
            "writing Jinseoung.egg-info/PKG-INFO\n",
            "writing dependency_links to Jinseoung.egg-info/dependency_links.txt\n",
            "writing top-level names to Jinseoung.egg-info/top_level.txt\n",
            "reading manifest file 'Jinseoung.egg-info/SOURCES.txt'\n",
            "writing manifest file 'Jinseoung.egg-info/SOURCES.txt'\n",
            "Copying Jinseoung.egg-info to build/bdist.linux-x86_64/wheel/Jinseoung-0.0.1-py3.9.egg-info\n",
            "running install_scripts\n",
            "creating build/bdist.linux-x86_64/wheel/Jinseoung-0.0.1.dist-info/WHEEL\n",
            "creating 'dist/Jinseoung-0.0.1-py3-none-any.whl' and adding 'build/bdist.linux-x86_64/wheel' to it\n",
            "adding 'mycalc/calculator.py'\n",
            "adding 'Jinseoung-0.0.1.dist-info/METADATA'\n",
            "adding 'Jinseoung-0.0.1.dist-info/WHEEL'\n",
            "adding 'Jinseoung-0.0.1.dist-info/top_level.txt'\n",
            "adding 'Jinseoung-0.0.1.dist-info/RECORD'\n",
            "removing build/bdist.linux-x86_64/wheel\n"
          ]
        }
      ]
    },
    {
      "cell_type": "code",
      "source": [
        "!twine upload -u lsj16 -p qwass119@! /content/dist/Jinseoung-0.0.1-py3-none-any.whl"
      ],
      "metadata": {
        "colab": {
          "base_uri": "https://localhost:8080/"
        },
        "id": "xkNykaIIaF6f",
        "outputId": "97beeb93-4ff7-4b66-91f1-2fa6aa0321a3"
      },
      "execution_count": 32,
      "outputs": [
        {
          "output_type": "stream",
          "name": "stdout",
          "text": [
            "Uploading distributions to https://upload.pypi.org/legacy/\n",
            "Uploading Jinseoung-0.0.1-py3-none-any.whl\n",
            "\u001b[2K\u001b[35m100%\u001b[0m \u001b[90m━━━━━━━━━━━━━━━━━━━━━━━━━━━━━━━━━━━━━━━━\u001b[0m \u001b[32m4.1/4.1 kB\u001b[0m • \u001b[33m00:00\u001b[0m • \u001b[31m?\u001b[0m\n",
            "\u001b[?25h\n",
            "\u001b[32mView at:\u001b[0m\n",
            "https://pypi.org/project/Jinseoung/0.0.1/\n"
          ]
        }
      ]
    }
  ]
}